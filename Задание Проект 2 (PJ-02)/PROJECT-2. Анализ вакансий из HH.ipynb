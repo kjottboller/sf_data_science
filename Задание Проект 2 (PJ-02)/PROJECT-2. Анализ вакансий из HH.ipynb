{
  "cells": [
    {
      "cell_type": "markdown",
      "id": "42289889-bd57-434e-9637-d3e354756316",
      "metadata": {
        "id": "42289889-bd57-434e-9637-d3e354756316"
      },
      "source": [
        "<center> <img src = https://raw.githubusercontent.com/AndreyRysistov/DatasetsForPandas/main/hh%20label.jpg alt=\"drawing\" style=\"width:400px;\">"
      ]
    },
    {
      "cell_type": "markdown",
      "id": "829cb75b-f14e-4ba8-9195-7ba929a7d656",
      "metadata": {
        "id": "829cb75b-f14e-4ba8-9195-7ba929a7d656",
        "tags": []
      },
      "source": [
        "# <center> Проект: Анализ вакансий из HeadHunter\n",
        "   "
      ]
    },
    {
      "cell_type": "code",
      "execution_count": 102,
      "id": "oVKH4ehvf8Ay",
      "metadata": {
        "id": "oVKH4ehvf8Ay"
      },
      "outputs": [],
      "source": [
        "import requests\n",
        "from bs4 import BeautifulSoup\n",
        "import os\n",
        "from dotenv import load_dotenv\n",
        "import psycopg2\n",
        "import pandas as pd\n",
        "from sqlalchemy import create_engine\n",
        "\n",
        "load_dotenv()\n",
        "\n",
        "host = os.getenv(\"84.201.134.129\")\n",
        "port = os.getenv(\"5432\")\n",
        "dbname = os.getenv(\"project_sql\")\n",
        "user = os.getenv(\"skillfactory\")\n",
        "password = os.getenv(\"cCkxxLVrDE8EbvjueeMedPKt\")\n",
        "\n",
        "db_url = f\"postgresql+psycopg2://{'skillfactory'}:{'cCkxxLVrDE8EbvjueeMedPKt'}@{'84.201.134.129'}:{5432}/{'project_sql'}\"\n",
        "engine = create_engine(db_url)"
      ]
    },
    {
      "cell_type": "code",
      "execution_count": 103,
      "id": "c3aa26c0",
      "metadata": {},
      "outputs": [
        {
          "name": "stdout",
          "output_type": "stream",
          "text": [
            "<class 'pandas.core.frame.DataFrame'>\n",
            "RangeIndex: 49197 entries, 0 to 49196\n",
            "Data columns (total 10 columns):\n",
            " #   Column       Non-Null Count  Dtype  \n",
            "---  ------       --------------  -----  \n",
            " 0   id           49197 non-null  int64  \n",
            " 1   name         49197 non-null  object \n",
            " 2   key_skills   40741 non-null  object \n",
            " 3   schedule     49197 non-null  object \n",
            " 4   experience   49197 non-null  object \n",
            " 5   employment   49197 non-null  object \n",
            " 6   salary_from  21485 non-null  float64\n",
            " 7   salary_to    12690 non-null  float64\n",
            " 8   area_id      49197 non-null  int64  \n",
            " 9   employer_id  49197 non-null  int64  \n",
            "dtypes: float64(2), int64(3), object(5)\n",
            "memory usage: 3.8+ MB\n",
            "None\n"
          ]
        }
      ],
      "source": [
        "query = f'''SELECT *\n",
        "            FROM vacancies\n",
        "'''\n",
        "df = pd.read_sql(query, engine)\n",
        "sql_df = df.copy()\n",
        "\n",
        "print(sql_df.info())\n",
        "# print(sql_df.head())"
      ]
    },
    {
      "cell_type": "markdown",
      "id": "0dc6476b-7a00-44f1-ac93-6e3baed33a29",
      "metadata": {
        "id": "0dc6476b-7a00-44f1-ac93-6e3baed33a29"
      },
      "source": [
        "# Юнит 3. Предварительный анализ данных"
      ]
    },
    {
      "cell_type": "markdown",
      "id": "889782b6-8d1c-410e-8920-e57f27917c64",
      "metadata": {
        "id": "889782b6-8d1c-410e-8920-e57f27917c64"
      },
      "source": [
        "**1. Напишите запрос, который посчитает количество вакансий в нашей базе (вакансии находятся в таблице vacancies).**"
      ]
    },
    {
      "cell_type": "code",
      "execution_count": 54,
      "id": "bc39e68e-ed02-4ee2-9235-7258a2f867a8",
      "metadata": {
        "id": "bc39e68e-ed02-4ee2-9235-7258a2f867a8"
      },
      "outputs": [],
      "source": [
        "query_3_1 = f'''SELECT\n",
        "COUNT(v.id) AS count_vacancies\n",
        "FROM vacancies AS v\n",
        "'''"
      ]
    },
    {
      "cell_type": "code",
      "execution_count": 55,
      "id": "7mAwtsk4hEHY",
      "metadata": {
        "id": "7mAwtsk4hEHY"
      },
      "outputs": [
        {
          "name": "stdout",
          "output_type": "stream",
          "text": [
            "   count_vacancies\n",
            "0            49197\n"
          ]
        }
      ],
      "source": [
        "sql_df = pd.read_sql(query_3_1, engine)\n",
        "print(sql_df)"
      ]
    },
    {
      "cell_type": "markdown",
      "id": "b583485d-1f9e-494e-ada4-80ffff7c53d6",
      "metadata": {
        "id": "b583485d-1f9e-494e-ada4-80ffff7c53d6"
      },
      "source": [
        "**2. Напишите запрос, который посчитает количество работодателей (таблица employers).**"
      ]
    },
    {
      "cell_type": "code",
      "execution_count": 56,
      "id": "5408c52c-3407-4a63-b25b-1aafa2322d28",
      "metadata": {
        "id": "5408c52c-3407-4a63-b25b-1aafa2322d28"
      },
      "outputs": [],
      "source": [
        "query_3_2 = f'''SELECT\n",
        "COUNT(e.id) AS count_employers\n",
        "FROM employers AS e\n",
        "'''"
      ]
    },
    {
      "cell_type": "code",
      "execution_count": 57,
      "id": "jVL4eshKhdqc",
      "metadata": {
        "id": "jVL4eshKhdqc"
      },
      "outputs": [
        {
          "name": "stdout",
          "output_type": "stream",
          "text": [
            "   count_employers\n",
            "0            23501\n"
          ]
        }
      ],
      "source": [
        "sql_df = pd.read_sql(query_3_2, engine)\n",
        "print(sql_df)"
      ]
    },
    {
      "cell_type": "markdown",
      "id": "a2bfff1f-c975-4bf6-84be-2185d79dcb76",
      "metadata": {
        "id": "a2bfff1f-c975-4bf6-84be-2185d79dcb76"
      },
      "source": [
        "**3. Посчитате с помощью запроса количество регионов (таблица areas).**"
      ]
    },
    {
      "cell_type": "code",
      "execution_count": 58,
      "id": "1m8QJwBYhey6",
      "metadata": {
        "id": "1m8QJwBYhey6"
      },
      "outputs": [],
      "source": [
        "query_3_3 = f'''SELECT\n",
        "COUNT(a.id) AS count_areas\n",
        "FROM areas AS a\n",
        "'''"
      ]
    },
    {
      "cell_type": "code",
      "execution_count": 59,
      "id": "EZsn9tlfhe7f",
      "metadata": {
        "id": "EZsn9tlfhe7f"
      },
      "outputs": [
        {
          "name": "stdout",
          "output_type": "stream",
          "text": [
            "   count_areas\n",
            "0         1362\n"
          ]
        }
      ],
      "source": [
        "sql_df = pd.read_sql(query_3_3, engine)\n",
        "print(sql_df)"
      ]
    },
    {
      "cell_type": "markdown",
      "id": "41bb59f3-53cc-4a67-a5bc-bedf573955e4",
      "metadata": {
        "id": "41bb59f3-53cc-4a67-a5bc-bedf573955e4"
      },
      "source": [
        "**4. Посчитате с помощью запроса количество сфер деятельности в базе (таблица industries).**"
      ]
    },
    {
      "cell_type": "code",
      "execution_count": 60,
      "id": "d286cf4c-707b-4cd2-9190-7ab3587d04a1",
      "metadata": {
        "id": "d286cf4c-707b-4cd2-9190-7ab3587d04a1"
      },
      "outputs": [],
      "source": [
        "query_3_4 = f'''SELECT \n",
        "COUNT(i.id) AS count_industries\n",
        "FROM industries AS i\n",
        "'''"
      ]
    },
    {
      "cell_type": "code",
      "execution_count": 61,
      "id": "JYAaoZ4qhfzW",
      "metadata": {
        "id": "JYAaoZ4qhfzW"
      },
      "outputs": [
        {
          "name": "stdout",
          "output_type": "stream",
          "text": [
            "   count_industries\n",
            "0               294\n"
          ]
        }
      ],
      "source": [
        "sql_df = pd.read_sql(query_3_4, engine)\n",
        "print(sql_df)"
      ]
    },
    {
      "cell_type": "markdown",
      "id": "9a8a2181-6914-448b-85f1-38f5f18b8a93",
      "metadata": {
        "id": "9a8a2181-6914-448b-85f1-38f5f18b8a93"
      },
      "source": [
        "***"
      ]
    },
    {
      "cell_type": "markdown",
      "id": "085b0fa9",
      "metadata": {},
      "source": [
        "**Вывод:** *Проведя предварительный анализ данных, мы узнали количество вакансий, работодателей, количество регионов и сфер деятельности.*"
      ]
    },
    {
      "cell_type": "markdown",
      "id": "8d62a9f3-f64e-4fe7-bdac-c4dffa16155e",
      "metadata": {
        "id": "8d62a9f3-f64e-4fe7-bdac-c4dffa16155e"
      },
      "source": [
        "# Юнит 4. Детальный анализ вакансий"
      ]
    },
    {
      "cell_type": "markdown",
      "id": "93053d3d-b284-481a-9cf7-012d7014c0e0",
      "metadata": {
        "id": "93053d3d-b284-481a-9cf7-012d7014c0e0"
      },
      "source": [
        "**1. Напишите запрос, который позволит узнать, сколько (cnt) вакансий в каждом регионе (area).\n",
        "Отсортируйте по количеству вакансий в порядке убывания.**"
      ]
    },
    {
      "cell_type": "code",
      "execution_count": 62,
      "id": "3f069da6-fdc9-4ae7-b514-fafe2675efd3",
      "metadata": {
        "id": "3f069da6-fdc9-4ae7-b514-fafe2675efd3"
      },
      "outputs": [],
      "source": [
        "query_4_1 = f'''SELECT\n",
        "a.id AS area_code,\n",
        "a.name AS area_name,\n",
        "COUNT(v.id) AS cnt\n",
        "\n",
        "FROM vacancies AS v \n",
        "JOIN areas AS a ON v.area_id = a.id\n",
        "\n",
        "GROUP BY a.id, a.name\n",
        "ORDER BY cnt DESC\n",
        "\n",
        "'''"
      ]
    },
    {
      "cell_type": "code",
      "execution_count": 63,
      "id": "P7QL86hrjhRJ",
      "metadata": {
        "id": "P7QL86hrjhRJ"
      },
      "outputs": [
        {
          "name": "stdout",
          "output_type": "stream",
          "text": [
            "   area_code        area_name   cnt\n",
            "0          1           Москва  5333\n",
            "1          2  Санкт-Петербург  2851\n",
            "2       1002            Минск  2112\n",
            "3          4      Новосибирск  2006\n",
            "4        160           Алматы  1892\n"
          ]
        }
      ],
      "source": [
        "sql_df = pd.read_sql(query_4_1, engine)\n",
        "print(sql_df.head(5))"
      ]
    },
    {
      "cell_type": "markdown",
      "id": "4266f0b6-1646-492a-88b4-2f6a46502135",
      "metadata": {
        "id": "4266f0b6-1646-492a-88b4-2f6a46502135"
      },
      "source": [
        "**2. Напишите запрос, чтобы определить у какого количества вакансий заполнено хотя бы одно из двух полей с зарплатой.**"
      ]
    },
    {
      "cell_type": "code",
      "execution_count": 64,
      "id": "0c44b350-72eb-4d65-8b54-a1fc449ba9fd",
      "metadata": {
        "id": "0c44b350-72eb-4d65-8b54-a1fc449ba9fd"
      },
      "outputs": [],
      "source": [
        "query_4_2 = f'''SELECT\n",
        "COUNT(*) AS cnt\n",
        "\n",
        "FROM vacancies AS v \n",
        "\n",
        "WHERE v.salary_from IS NOT NULL\n",
        "OR v.salary_to IS NOT NULL\n",
        "\n",
        "'''"
      ]
    },
    {
      "cell_type": "code",
      "execution_count": 65,
      "id": "rhvwaMDkoWTi",
      "metadata": {
        "id": "rhvwaMDkoWTi"
      },
      "outputs": [
        {
          "name": "stdout",
          "output_type": "stream",
          "text": [
            "     cnt\n",
            "0  24073\n"
          ]
        }
      ],
      "source": [
        "sql_df = pd.read_sql(query_4_2, engine)\n",
        "print(sql_df)"
      ]
    },
    {
      "cell_type": "markdown",
      "id": "635c4d5d-f323-4c66-b428-50a088120aa0",
      "metadata": {
        "id": "635c4d5d-f323-4c66-b428-50a088120aa0"
      },
      "source": [
        "**3. Найдите средние значения для нижней и верхней границы зарплатной вилки. Округлите значения до целого.**"
      ]
    },
    {
      "cell_type": "code",
      "execution_count": 66,
      "id": "603cdbe4-0ec3-4106-8eaf-c73fcdd29165",
      "metadata": {
        "id": "603cdbe4-0ec3-4106-8eaf-c73fcdd29165"
      },
      "outputs": [],
      "source": [
        "query_4_3 = f'''SELECT\n",
        "ROUND(AVG(salary_from)) AS avg_salary_from,\n",
        "ROUND(AVG(salary_to)) AS avg_salary_to\n",
        "\n",
        "FROM vacancies AS v \n",
        "\n",
        "WHERE v.salary_from IS NOT NULL\n",
        "OR v.salary_to IS NOT NULL\n",
        "\n",
        "'''"
      ]
    },
    {
      "cell_type": "code",
      "execution_count": 67,
      "id": "pswpAb66ovZZ",
      "metadata": {
        "id": "pswpAb66ovZZ"
      },
      "outputs": [
        {
          "name": "stdout",
          "output_type": "stream",
          "text": [
            "   avg_salary_from  avg_salary_to\n",
            "0          71065.0       110537.0\n"
          ]
        }
      ],
      "source": [
        "sql_df = pd.read_sql(query_4_3, engine)\n",
        "print(sql_df)"
      ]
    },
    {
      "cell_type": "markdown",
      "id": "f3fdaec9-5fd3-4260-9cf5-1d7406b628a5",
      "metadata": {
        "id": "f3fdaec9-5fd3-4260-9cf5-1d7406b628a5"
      },
      "source": [
        "**4. Напишите запрос, который выведет количество вакансий для каждого сочетания типа рабочего графика (schedule) и типа трудоустройства (employment), используемого в вакансиях. Результат отсортируйте по убыванию количества.**\n"
      ]
    },
    {
      "cell_type": "code",
      "execution_count": 68,
      "id": "1ea710ec-871b-431e-9462-c7d0fd87011b",
      "metadata": {
        "id": "1ea710ec-871b-431e-9462-c7d0fd87011b"
      },
      "outputs": [],
      "source": [
        "query_4_4 = f'''SELECT\n",
        "v.schedule,\n",
        "v.employment,\n",
        "COUNT(v.id) AS cnt\n",
        "\n",
        "FROM vacancies AS v \n",
        "\n",
        "GROUP BY v.schedule, v.employment\n",
        "ORDER BY cnt DESC\n",
        "\n",
        "'''"
      ]
    },
    {
      "cell_type": "code",
      "execution_count": 69,
      "id": "lGUVqavdo4JQ",
      "metadata": {
        "id": "lGUVqavdo4JQ"
      },
      "outputs": [
        {
          "name": "stdout",
          "output_type": "stream",
          "text": [
            "           schedule        employment    cnt\n",
            "0       Полный день  Полная занятость  35367\n",
            "1  Удаленная работа  Полная занятость   7802\n"
          ]
        }
      ],
      "source": [
        "sql_df = pd.read_sql(query_4_4, engine)\n",
        "print(sql_df.head(2))"
      ]
    },
    {
      "cell_type": "markdown",
      "id": "0136ffee-0ead-4a6b-b608-61d1c753a438",
      "metadata": {
        "id": "0136ffee-0ead-4a6b-b608-61d1c753a438"
      },
      "source": [
        "**5. Напишите запрос, выводящий значения поля Требуемый опыт работы (experience) в порядке возрастания количества вакансий, в которых указан данный вариант опыта.** "
      ]
    },
    {
      "cell_type": "code",
      "execution_count": 70,
      "id": "5b3a8e79-f7ab-4008-b767-12aea3a205ea",
      "metadata": {
        "id": "5b3a8e79-f7ab-4008-b767-12aea3a205ea"
      },
      "outputs": [],
      "source": [
        "query_4_5 = f'''SELECT\n",
        "v.experience,\n",
        "COUNT(*) AS cnt\n",
        "\n",
        "FROM vacancies AS v \n",
        "\n",
        "GROUP BY v.experience\n",
        "ORDER BY cnt ASC\n",
        "\n",
        "'''"
      ]
    },
    {
      "cell_type": "code",
      "execution_count": 71,
      "id": "3Is64Y-hpDpq",
      "metadata": {
        "id": "3Is64Y-hpDpq"
      },
      "outputs": [
        {
          "name": "stdout",
          "output_type": "stream",
          "text": [
            "           experience    cnt\n",
            "0         Более 6 лет   1337\n",
            "1           Нет опыта   7197\n",
            "2       От 3 до 6 лет  14511\n",
            "3  От 1 года до 3 лет  26152\n"
          ]
        }
      ],
      "source": [
        "sql_df = pd.read_sql(query_4_5, engine)\n",
        "print(sql_df)"
      ]
    },
    {
      "cell_type": "markdown",
      "id": "oq2b7n1QpIka",
      "metadata": {
        "id": "oq2b7n1QpIka"
      },
      "source": [
        "***"
      ]
    },
    {
      "cell_type": "markdown",
      "id": "db0543a5",
      "metadata": {},
      "source": [
        "**Вывод:** *В детальном анализе вакансий мы узнали сколько вакансий существует в каждом регионе, в каких вакансиях заполнены поля с зарплатой. Также, мы нашли средние значения для нижней и верхней границ зарплатной вилки.*"
      ]
    },
    {
      "cell_type": "markdown",
      "id": "7ea20ab6-04a7-40a0-adec-443a0e5a42c3",
      "metadata": {
        "id": "7ea20ab6-04a7-40a0-adec-443a0e5a42c3"
      },
      "source": [
        "# Юнит 5. Анализ работодателей"
      ]
    },
    {
      "cell_type": "markdown",
      "id": "968aed80-74ef-4ffb-b5bf-c65b84e9caea",
      "metadata": {
        "id": "968aed80-74ef-4ffb-b5bf-c65b84e9caea"
      },
      "source": [
        "**1. Напишите запрос, который позволит узнать, какие работодатели находятся на первом и пятом месте по количеству вакансий.**"
      ]
    },
    {
      "cell_type": "code",
      "execution_count": 72,
      "id": "f2d62796-d400-4ec1-a675-88112739a50e",
      "metadata": {
        "id": "f2d62796-d400-4ec1-a675-88112739a50e"
      },
      "outputs": [],
      "source": [
        "query_5_1 = f'''SELECT\n",
        "e.name,\n",
        "COUNT(v.id) AS vacancy_cnt\n",
        "\n",
        "FROM employers AS e \n",
        "JOIN vacancies AS v ON e.id = v.employer_id\n",
        "\n",
        "GROUP BY e.name\n",
        "ORDER BY vacancy_cnt DESC\n",
        "LIMIT 5\n",
        "'''"
      ]
    },
    {
      "cell_type": "code",
      "execution_count": 73,
      "id": "64tOMkAxqkQk",
      "metadata": {
        "id": "64tOMkAxqkQk"
      },
      "outputs": [
        {
          "name": "stdout",
          "output_type": "stream",
          "text": [
            "            name  vacancy_cnt\n",
            "0         Яндекс         1933\n",
            "1     Ростелеком          491\n",
            "2       Тинькофф          444\n",
            "3           СБЕР          428\n",
            "4  Газпром нефть          331\n"
          ]
        }
      ],
      "source": [
        "sql_df = pd.read_sql(query_5_1, engine)\n",
        "print(sql_df)"
      ]
    },
    {
      "cell_type": "markdown",
      "id": "68377cfc-b378-43dc-ab7d-1195abf2c515",
      "metadata": {
        "id": "68377cfc-b378-43dc-ab7d-1195abf2c515"
      },
      "source": [
        "**2. Напишите запрос, который для каждого региона выведет количество работодателей и вакансий в нём. Среди регионов, в которых нет вакансий, найдите тот, в котором наибольшее количество работодателей.**\n"
      ]
    },
    {
      "cell_type": "code",
      "execution_count": 74,
      "id": "8aa95cea",
      "metadata": {},
      "outputs": [],
      "source": [
        "query_5_2 = f'''SELECT \n",
        "a.name,\n",
        "COUNT(DISTINCT v.id) AS vacation,\n",
        "COUNT(DISTINCT e.id) AS companies\n",
        "    \n",
        "FROM areas AS a\n",
        "    LEFT JOIN vacancies AS v ON a.id = v.area_id\n",
        "    LEFT JOIN employers AS e ON a.id = e.area\n",
        "\n",
        "\n",
        "WHERE v.area_id IS NULL\n",
        "\n",
        "GROUP BY a.name\n",
        "ORDER BY 3 DESC\n",
        "\n",
        "LIMIT 5\n",
        "\n",
        "'''"
      ]
    },
    {
      "cell_type": "code",
      "execution_count": 75,
      "id": "1d5dde5d",
      "metadata": {},
      "outputs": [
        {
          "name": "stdout",
          "output_type": "stream",
          "text": [
            "                 name  vacation  companies\n",
            "0              Россия         0        410\n",
            "1           Казахстан         0        207\n",
            "2  Московская область         0         75\n",
            "3  Краснодарский край         0         19\n",
            "4            Беларусь         0         18\n"
          ]
        }
      ],
      "source": [
        "sql_df = pd.read_sql(query_5_2, engine)\n",
        "print(sql_df)"
      ]
    },
    {
      "cell_type": "markdown",
      "id": "f2fe0acb-ab1a-4e15-9326-2560e22d73c1",
      "metadata": {
        "id": "f2fe0acb-ab1a-4e15-9326-2560e22d73c1"
      },
      "source": [
        "**3. Для каждого работодателя посчитайте количество регионов, в которых он публикует свои вакансии. Отсортируйте результат по убыванию количества.**\n"
      ]
    },
    {
      "cell_type": "code",
      "execution_count": 76,
      "id": "6271f8ad-bd2e-4196-ae4a-5b39c4c1010e",
      "metadata": {
        "id": "6271f8ad-bd2e-4196-ae4a-5b39c4c1010e"
      },
      "outputs": [],
      "source": [
        "query_5_3 = f'''SELECT\n",
        "e.id AS employer_id,\n",
        "e.name AS employer_name,\n",
        "COUNT(DISTINCT v.area_id) AS areas_cnt\n",
        "    \n",
        "FROM employers AS e\n",
        "    LEFT JOIN vacancies AS v ON e.id = v.employer_id\n",
        "\n",
        "GROUP BY e.id, e.name\n",
        "ORDER BY 3 DESC\n",
        "\n",
        "'''"
      ]
    },
    {
      "cell_type": "code",
      "execution_count": 77,
      "id": "1EIvX3HasH4F",
      "metadata": {
        "id": "1EIvX3HasH4F"
      },
      "outputs": [
        {
          "name": "stdout",
          "output_type": "stream",
          "text": [
            "       employer_id           employer_name  areas_cnt\n",
            "0             1740                  Яндекс        181\n",
            "1             2748              Ростелеком        152\n",
            "2          5724811              Спецремонт        116\n",
            "3          5130287  Поляков Денис Иванович         88\n",
            "4          3682876               ООО ЕФИН          71\n",
            "...            ...                     ...        ...\n",
            "23496      5287515              Но Смокинг          0\n",
            "23497      2839354        МАСТЕРСКАЯ CREED          0\n",
            "23498      5774578           Dzing Finance          0\n",
            "23499      5775069                    КОРС          0\n",
            "23500           15             Наука-Связь          0\n",
            "\n",
            "[23501 rows x 3 columns]\n"
          ]
        }
      ],
      "source": [
        "sql_df = pd.read_sql(query_5_3, engine)\n",
        "print(sql_df)"
      ]
    },
    {
      "cell_type": "markdown",
      "id": "eab2206d-d95b-468b-8e5f-34381abf0ce7",
      "metadata": {
        "id": "eab2206d-d95b-468b-8e5f-34381abf0ce7"
      },
      "source": [
        "**4. Напишите запрос для подсчёта количества работодателей, у которых не указана сфера деятельности.**"
      ]
    },
    {
      "cell_type": "code",
      "execution_count": 78,
      "id": "80defb23-bfb1-4a18-8be6-bf36aa7165d5",
      "metadata": {
        "id": "80defb23-bfb1-4a18-8be6-bf36aa7165d5"
      },
      "outputs": [],
      "source": [
        "query_5_4 = f'''SELECT\n",
        "COUNT(e.id) AS no_industry_cnt\n",
        "    \n",
        "FROM employers AS e\n",
        "    LEFT JOIN employers_industries AS ei ON e.id = ei.employer_id\n",
        "\n",
        "WHERE ei.industry_id IS NULL\n",
        "\n",
        "'''"
      ]
    },
    {
      "cell_type": "code",
      "execution_count": 79,
      "id": "Dp_yCx6ysQSu",
      "metadata": {
        "id": "Dp_yCx6ysQSu"
      },
      "outputs": [
        {
          "name": "stdout",
          "output_type": "stream",
          "text": [
            "   no_industry_cnt\n",
            "0             8419\n"
          ]
        }
      ],
      "source": [
        "sql_df = pd.read_sql(query_5_4, engine)\n",
        "print(sql_df)"
      ]
    },
    {
      "cell_type": "markdown",
      "id": "0112af31-f6b0-4e3b-82ab-71296e752e5e",
      "metadata": {
        "id": "0112af31-f6b0-4e3b-82ab-71296e752e5e"
      },
      "source": [
        "**5. Напишите запрос, чтобы узнать название компании, находящейся на третьем месте в алфавитном списке (по названию) компаний, у которых указано четыре сферы деятельности.**"
      ]
    },
    {
      "cell_type": "code",
      "execution_count": 80,
      "id": "973b0cfc-a972-470a-8b4a-68744ef220c4",
      "metadata": {
        "id": "973b0cfc-a972-470a-8b4a-68744ef220c4"
      },
      "outputs": [],
      "source": [
        "query_5_5 = f'''SELECT\n",
        "e.name AS employer_name\n",
        "\n",
        "FROM employers AS e\n",
        "    LEFT JOIN employers_industries AS ei ON e.id = ei.employer_id\n",
        "\n",
        "GROUP BY e.name\n",
        "HAVING COUNT(ei.industry_id) = 4\n",
        "\n",
        "ORDER BY e.name ASC\n",
        "\n",
        "'''"
      ]
    },
    {
      "cell_type": "code",
      "execution_count": 81,
      "id": "xsPtpp8EsaED",
      "metadata": {
        "id": "xsPtpp8EsaED"
      },
      "outputs": [
        {
          "name": "stdout",
          "output_type": "stream",
          "text": [
            "        employer_name\n",
            "0        101 Интернет\n",
            "1            21vek.by\n",
            "2                2ГИС\n",
            "3                  2К\n",
            "4         4 пикселя +\n",
            "...               ...\n",
            "1131            ЮРИОН\n",
            "1132  ЮТИП Технологии\n",
            "1133           ЯКласс\n",
            "1134            ЯрНео\n",
            "1135    Яшин&Партнёры\n",
            "\n",
            "[1136 rows x 1 columns]\n"
          ]
        }
      ],
      "source": [
        "sql_df = pd.read_sql(query_5_5, engine)\n",
        "print(sql_df)"
      ]
    },
    {
      "cell_type": "markdown",
      "id": "3bfcfdaf-755d-4d2b-8ed8-326201dc07ab",
      "metadata": {
        "id": "3bfcfdaf-755d-4d2b-8ed8-326201dc07ab"
      },
      "source": [
        "**6. С помощью запроса выясните, у какого количества работодателей в качестве сферы деятельности указана Разработка программного обеспечения.**\n"
      ]
    },
    {
      "cell_type": "code",
      "execution_count": 82,
      "id": "ad3f270f-2991-47eb-929b-e8f88a55b0d1",
      "metadata": {
        "id": "ad3f270f-2991-47eb-929b-e8f88a55b0d1"
      },
      "outputs": [],
      "source": [
        "query_5_6 = f'''SELECT\n",
        "COUNT(e.id) AS cnt\n",
        "\n",
        "FROM employers AS e\n",
        "    LEFT JOIN employers_industries AS ei ON e.id = ei.employer_id\n",
        "    LEFT JOIN industries AS i ON ei.industry_id = i.id\n",
        "\n",
        "WHERE i.name = 'Разработка программного обеспечения'\n",
        "\n",
        "'''"
      ]
    },
    {
      "cell_type": "code",
      "execution_count": 83,
      "id": "H72qxWM0shPR",
      "metadata": {
        "id": "H72qxWM0shPR"
      },
      "outputs": [
        {
          "name": "stdout",
          "output_type": "stream",
          "text": [
            "    cnt\n",
            "0  3553\n"
          ]
        }
      ],
      "source": [
        "sql_df = pd.read_sql(query_5_6, engine)\n",
        "print(sql_df)"
      ]
    },
    {
      "cell_type": "markdown",
      "id": "7b02bb86-0546-40fb-94a4-242f050a5c57",
      "metadata": {
        "id": "7b02bb86-0546-40fb-94a4-242f050a5c57"
      },
      "source": [
        "**7. Для компании «Яндекс» выведите список регионов-миллионников, в которых представлены вакансии компании, вместе с количеством вакансий в этих регионах. Также добавьте строку _Total_ с общим количеством вакансий компании. Результат отсортируйте по возрастанию количества.**\n",
        "\n",
        "Список городов-милионников берём [отсюда](https://ru.wikipedia.org/wiki/%D0%93%D0%BE%D1%80%D0%BE%D0%B4%D0%B0-%D0%BC%D0%B8%D0%BB%D0%BB%D0%B8%D0%BE%D0%BD%D0%B5%D1%80%D1%8B_%D0%A0%D0%BE%D1%81%D1%81%D0%B8%D0%B8)."
      ]
    },
    {
      "cell_type": "code",
      "execution_count": 84,
      "id": "8dcb7e68",
      "metadata": {},
      "outputs": [
        {
          "name": "stdout",
          "output_type": "stream",
          "text": [
            "['Москва', 'Санкт-Петербург', 'Новосибирск', 'Екатеринбург', 'Казань', 'Красноярск', 'Нижний Новгород', 'Челябинск', 'Уфа', 'Самара', 'Ростов-на-Дону', 'Краснодар', 'Омск', 'Воронеж', 'Пермь', 'Волгоград']\n",
            "['Москва', 'Санкт-Петербург', 'Новосибирск', 'Екатеринбург', 'Казань', 'Красноярск', 'Нижний Новгород', 'Челябинск', 'Уфа', 'Самара', 'Ростов-на-Дону', 'Краснодар', 'Омск', 'Воронеж', 'Пермь', 'Волгоград']\n"
          ]
        }
      ],
      "source": [
        "url = \"https://ru.wikipedia.org/wiki/%D0%93%D0%BE%D1%80%D0%BE%D0%B4%D0%B0-%D0%BC%D0%B8%D0%BB%D0%BB%D0%B8%D0%BE%D0%BD%D0%B5%D1%80%D1%8B_%D0%A0%D0%BE%D1%81%D1%81%D0%B8%D0%B8\"\n",
        "tables = pd.read_html(url, encoding = \"utf-8\")\n",
        "cities_df = tables[0]\n",
        "million_cities = cities_df.iloc[:, 1].tolist()\n",
        "print(million_cities) \n",
        "cities_df = tables[0]\n",
        "million_cities = cities_df.iloc[:, 1].tolist()\n",
        "print(million_cities)"
      ]
    },
    {
      "cell_type": "code",
      "execution_count": 85,
      "id": "5a0e32a4-e68a-4365-8a39-2fe24c542c36",
      "metadata": {
        "id": "5a0e32a4-e68a-4365-8a39-2fe24c542c36"
      },
      "outputs": [],
      "source": [
        "query_5_7 = f'''WITH yandex_vacancies AS (\n",
        "SELECT\n",
        "    a.name AS city,\n",
        "    COUNT(v.id) AS vacancy_cnt\n",
        "\n",
        "FROM vacancies AS v\n",
        "    LEFT JOIN areas AS a ON v.area_id = a.id\n",
        "    LEFT JOIN employers AS e ON v.employer_id = e.id\n",
        "\n",
        "WHERE e.name = 'Яндекс'\n",
        "    AND a.name IN ({', '.join(\"'\" + city + \"'\" for city in million_cities)})\n",
        "    GROUP BY a.name\n",
        ")\n",
        "\n",
        "SELECT\n",
        "    city,\n",
        "    vacancy_cnt\n",
        "\n",
        "FROM yandex_vacancies    \n",
        "\n",
        "UNION ALL\n",
        "\n",
        "SELECT \n",
        "    'Total' AS city, \n",
        "    SUM(vacancy_cnt) AS vacancy_cnt\n",
        "\n",
        "FROM yandex_vacancies\n",
        "ORDER BY vacancy_cnt DESC\n",
        "\n",
        "'''"
      ]
    },
    {
      "cell_type": "code",
      "execution_count": 86,
      "id": "ttPhiO1rsvPq",
      "metadata": {
        "id": "ttPhiO1rsvPq"
      },
      "outputs": [
        {
          "name": "stdout",
          "output_type": "stream",
          "text": [
            "               city  vacancy_cnt\n",
            "0             Total        485.0\n",
            "1            Москва         54.0\n",
            "2   Санкт-Петербург         42.0\n",
            "3      Екатеринбург         39.0\n",
            "4   Нижний Новгород         36.0\n",
            "5       Новосибирск         35.0\n",
            "6           Воронеж         32.0\n",
            "7         Краснодар         30.0\n",
            "8            Самара         26.0\n",
            "9               Уфа         26.0\n",
            "10   Ростов-на-Дону         25.0\n",
            "11            Пермь         25.0\n",
            "12           Казань         25.0\n",
            "13        Волгоград         24.0\n",
            "14       Красноярск         23.0\n",
            "15        Челябинск         22.0\n",
            "16             Омск         21.0\n"
          ]
        }
      ],
      "source": [
        "sql_df = pd.read_sql(query_5_7, engine)\n",
        "print(sql_df)"
      ]
    },
    {
      "cell_type": "markdown",
      "id": "04966e40-3bc3-4dc8-9ba2-e80580ce3abc",
      "metadata": {
        "id": "04966e40-3bc3-4dc8-9ba2-e80580ce3abc"
      },
      "source": [
        "***"
      ]
    },
    {
      "cell_type": "markdown",
      "id": "2f8a765e",
      "metadata": {},
      "source": [
        "**Вывод:** *Анализируя работодателей мы узнали топ-5 популярных работодателей по количеству вакансий, количество работодателей и вакансий для каждого региона, а также, количество регионов, в которых работодатель публикует свои вакансии. Узнали, что у 8419 (из 23501 возможных) работодателей не указана свера деятельности. С помощью парсинга мы сделали запрос на список городов-миллионников и вывели количество вакансий Яндекса для каждого города-миллионника.*"
      ]
    },
    {
      "cell_type": "markdown",
      "id": "b1ef156a-efcb-49ce-bb23-90763e7f35b2",
      "metadata": {
        "id": "b1ef156a-efcb-49ce-bb23-90763e7f35b2",
        "tags": []
      },
      "source": [
        "# Юнит 6. Предметный анализ"
      ]
    },
    {
      "cell_type": "markdown",
      "id": "b9cd50a0-992d-4988-8463-2b2b1c4629b4",
      "metadata": {
        "id": "b9cd50a0-992d-4988-8463-2b2b1c4629b4"
      },
      "source": [
        "**1. Сколько вакансий имеет отношение к данным?**\n",
        "\n",
        "Считаем, что вакансия имеет отношение к данным, если в её названии содержатся слова 'data' или 'данн'.\n",
        "\n",
        "*Подсказка: Обратите внимание, что названия вакансий могут быть написаны в любом регистре.* \n"
      ]
    },
    {
      "cell_type": "code",
      "execution_count": 87,
      "id": "3dc7235e",
      "metadata": {},
      "outputs": [],
      "source": [
        "query_6_1 = f'''\n",
        "SELECT\n",
        "    COUNT(DISTINCT v.id) AS vacancy_cnt\n",
        "\n",
        "FROM vacancies AS v\n",
        "    LEFT JOIN employers AS e ON v.employer_id = e.id\n",
        "    LEFT JOIN employers_industries AS ei ON e.id = ei.employer_id\n",
        "    LEFT JOIN industries AS i ON ei.industry_id = i.id\n",
        "\n",
        "WHERE v.name ILIKE '%%данн%%' OR v.name ILIKE '%%data%%'\n",
        "\n",
        "'''"
      ]
    },
    {
      "cell_type": "code",
      "execution_count": 88,
      "id": "5df33f18",
      "metadata": {},
      "outputs": [
        {
          "name": "stdout",
          "output_type": "stream",
          "text": [
            "   vacancy_cnt\n",
            "0         1771\n"
          ]
        }
      ],
      "source": [
        "sql_df = pd.read_sql(query_6_1, engine)\n",
        "print(sql_df)"
      ]
    },
    {
      "cell_type": "markdown",
      "id": "4dea20cb-a36b-474a-a0b9-e08e8e3857a5",
      "metadata": {
        "id": "4dea20cb-a36b-474a-a0b9-e08e8e3857a5"
      },
      "source": [
        "**2. Сколько есть подходящих вакансий для начинающего дата-сайентиста?**\n",
        "Будем считать вакансиями для дата-сайентистов такие, в названии которых есть хотя бы одно из следующих сочетаний:\n",
        "* 'data scientist'\n",
        "* 'data science'\n",
        "* 'исследователь данных'\n",
        "* 'ML' (здесь не нужно брать вакансии по HTML)\n",
        "* 'machine learning'\n",
        "* 'машинн%обучен%'\n",
        "\n",
        "*В следующих заданиях мы продолжим работать с вакансиями по этому условию.*\n",
        "\n",
        "Считаем вакансиями для специалистов уровня Junior следующие:\n",
        "* в названии есть слово 'junior' *или*\n",
        "* требуемый опыт — Нет опыта *или*\n",
        "* тип трудоустройства — Стажировка.\n",
        " "
      ]
    },
    {
      "cell_type": "code",
      "execution_count": 89,
      "id": "9c61b3c0-bb66-46c9-ae1e-81d3f5752b4a",
      "metadata": {
        "id": "9c61b3c0-bb66-46c9-ae1e-81d3f5752b4a"
      },
      "outputs": [],
      "source": [
        "query_6_2 = f'''\n",
        "SELECT\n",
        "    COUNT(DISTINCT v.id) AS junior_vacancy_cnt\n",
        "\n",
        "FROM vacancies AS v\n",
        "\n",
        "WHERE (\n",
        "    v.name ILIKE '%%data scientist%%' \n",
        "    OR v.name ILIKE '%%data science%%'\n",
        "    OR v.name ILIKE '%%исследователь данных%%'\n",
        "    OR v.name ILIKE '%%ML%%' AND v.name NOT ILIKE '%%HTML%%'\n",
        "    OR v.name ILIKE '%%machine learning%%'\n",
        "    OR v.name ILIKE '%%машинн%%обучен%%')\n",
        "AND (\n",
        "    v.name ILIKE '%%junior%%'\n",
        "    OR v.experience ILIKE '%%Нет опыта%%'\n",
        "    OR v.employment ILIKE '%%Стажировка%%'\n",
        ")\n",
        "\n",
        "'''"
      ]
    },
    {
      "cell_type": "code",
      "execution_count": 90,
      "id": "ZNM-LLYuu1dj",
      "metadata": {
        "id": "ZNM-LLYuu1dj"
      },
      "outputs": [
        {
          "name": "stdout",
          "output_type": "stream",
          "text": [
            "   junior_vacancy_cnt\n",
            "0                  51\n"
          ]
        }
      ],
      "source": [
        "sql_df = pd.read_sql(query_6_2, engine)\n",
        "print(sql_df)"
      ]
    },
    {
      "cell_type": "markdown",
      "id": "eedceb80-c5ca-480e-b27a-278dfb8b4438",
      "metadata": {
        "id": "eedceb80-c5ca-480e-b27a-278dfb8b4438"
      },
      "source": [
        "**3. Сколько есть вакансий для DS, в которых в качестве ключевого навыка указан SQL или postgres?**\n",
        "\n",
        "*Критерии для отнесения вакансии к DS указаны в предыдущем задании.*"
      ]
    },
    {
      "cell_type": "code",
      "execution_count": 91,
      "id": "69621713-0cc5-4f1b-a1d7-bb144fa6148c",
      "metadata": {
        "id": "69621713-0cc5-4f1b-a1d7-bb144fa6148c"
      },
      "outputs": [],
      "source": [
        "query_6_3 = f'''\n",
        "SELECT\n",
        "    COUNT(DISTINCT v.id) AS ds_vacancy_cnt\n",
        "\n",
        "FROM vacancies AS v\n",
        "\n",
        "WHERE (\n",
        "    v.name ILIKE '%%data scientist%%' \n",
        "    OR v.name ILIKE '%%data science%%'\n",
        "    OR v.name ILIKE '%%исследователь данных%%'\n",
        "    OR v.name ILIKE '%%ML%%' AND v.name NOT ILIKE '%%HTML%%'\n",
        "    OR v.name ILIKE '%%machine learning%%'\n",
        "    OR v.name ILIKE '%%машинн%%обучен%%')\n",
        "AND (\n",
        "    v.key_skills ILIKE '%%SQL%%' OR v.key_skills ILIKE '%%postgres%%'\n",
        ")\n",
        "\n",
        "'''"
      ]
    },
    {
      "cell_type": "code",
      "execution_count": 92,
      "id": "alA8WEAAvGdf",
      "metadata": {
        "id": "alA8WEAAvGdf"
      },
      "outputs": [
        {
          "name": "stdout",
          "output_type": "stream",
          "text": [
            "   ds_vacancy_cnt\n",
            "0             229\n"
          ]
        }
      ],
      "source": [
        "sql_df = pd.read_sql(query_6_3, engine)\n",
        "print(sql_df)"
      ]
    },
    {
      "cell_type": "markdown",
      "id": "1be1e9c6-37cf-4a5f-bfeb-04cab799dc80",
      "metadata": {
        "id": "1be1e9c6-37cf-4a5f-bfeb-04cab799dc80"
      },
      "source": [
        "**4. Проверьте, насколько популярен Python в требованиях работодателей к DS.Для этого вычислите количество вакансий, в которых в качестве ключевого навыка указан Python.**\n",
        "\n",
        "*Это можно сделать помощью запроса, аналогичного предыдущему.*"
      ]
    },
    {
      "cell_type": "code",
      "execution_count": 93,
      "id": "71a5bbfa",
      "metadata": {},
      "outputs": [
        {
          "name": "stdout",
          "output_type": "stream",
          "text": [
            "   python_vacancy_cnt\n",
            "0                 536\n"
          ]
        }
      ],
      "source": [
        "query_6_4_1 = f'''\n",
        "SELECT\n",
        "    COUNT(DISTINCT v.id) AS python_vacancy_cnt\n",
        "\n",
        "FROM vacancies AS v\n",
        "\n",
        "WHERE (\n",
        "    v.name ILIKE '%%data scientist%%' \n",
        "    OR v.name ILIKE '%%data science%%'\n",
        "    OR v.name ILIKE '%%исследователь данных%%'\n",
        "    OR v.name ILIKE '%%ML%%' AND v.name NOT ILIKE '%%HTML%%'\n",
        "    OR v.name ILIKE '%%machine learning%%'\n",
        "    OR v.name ILIKE '%%машинн%%обучен%%')\n",
        "\n",
        "'''\n",
        "sql_df = pd.read_sql(query_6_4_1, engine)\n",
        "print(sql_df)"
      ]
    },
    {
      "cell_type": "code",
      "execution_count": 94,
      "id": "0036a355-9ccf-4564-8b01-73d8194297e7",
      "metadata": {
        "id": "0036a355-9ccf-4564-8b01-73d8194297e7"
      },
      "outputs": [],
      "source": [
        "query_6_4 = f'''\n",
        "SELECT\n",
        "    COUNT(DISTINCT v.id) AS ds_vacancy_cnt\n",
        "\n",
        "FROM vacancies AS v\n",
        "\n",
        "WHERE (\n",
        "    v.name ILIKE '%%data scientist%%' \n",
        "    OR v.name ILIKE '%%data science%%'\n",
        "    OR v.name ILIKE '%%исследователь данных%%'\n",
        "    OR v.name ILIKE '%%ML%%' AND v.name NOT ILIKE '%%HTML%%'\n",
        "    OR v.name ILIKE '%%machine learning%%'\n",
        "    OR v.name ILIKE '%%машинн%%обучен%%')\n",
        "AND (\n",
        "    v.key_skills ILIKE '%%Python%%'\n",
        ")\n",
        "\n",
        "'''"
      ]
    },
    {
      "cell_type": "code",
      "execution_count": 95,
      "id": "1i-5WyucvQ6v",
      "metadata": {
        "id": "1i-5WyucvQ6v"
      },
      "outputs": [
        {
          "name": "stdout",
          "output_type": "stream",
          "text": [
            "   ds_vacancy_cnt\n",
            "0             357\n"
          ]
        }
      ],
      "source": [
        "sql_df = pd.read_sql(query_6_4, engine)\n",
        "print(sql_df)"
      ]
    },
    {
      "cell_type": "markdown",
      "id": "ec3c8db7-fa21-4a41-a994-1af63742a642",
      "metadata": {
        "id": "ec3c8db7-fa21-4a41-a994-1af63742a642"
      },
      "source": [
        "**5. Сколько ключевых навыков в среднем указывают в вакансиях для DS?**\n",
        "\n",
        "Ответ округлите до двух знаков после точки-разделителя."
      ]
    },
    {
      "cell_type": "code",
      "execution_count": 96,
      "id": "9aba4fc4",
      "metadata": {},
      "outputs": [
        {
          "name": "stdout",
          "output_type": "stream",
          "text": [
            "                                           key_skills\n",
            "0   Пользователь ПК\\tРабота в команде\\tРемонт ноут...\n",
            "1   Средства криптографической защиты информации\\t...\n",
            "2     Spring Framework\\tSQL\\tHibernate ORM\\tJava\\tGit\n",
            "3     Spring Framework\\tSQL\\tHibernate ORM\\tJava\\tGit\n",
            "4                                                None\n",
            "5   Корректура текстов\\tГрамотность\\tРабота в кома...\n",
            "6        JavaScript\\tTypeScript\\tCSS3\\tNode.js\\tHTML5\n",
            "7   Java SE\\tSpring Framework\\tSpring Boot\\tGit\\tS...\n",
            "8   Linux\\tАдминистрирование сетевого оборудования...\n",
            "9   1С программирование\\t1С: Предприятие 8\\t1С: До...\n",
            "10  PostgreSQL\\tSQL\\tLinux\\t1С программирование\\tM...\n"
          ]
        }
      ],
      "source": [
        "# Смотрим какие разделители используются\n",
        "\n",
        "query_6_5_0 = f'''\n",
        "SELECT \n",
        "    key_skills\n",
        "FROM vacancies\n",
        "'''\n",
        "sql_df = pd.read_sql(query_6_5_0, engine)\n",
        "print(sql_df.head(11))"
      ]
    },
    {
      "cell_type": "code",
      "execution_count": 97,
      "id": "949132bc-d5b6-4611-8218-0b9a504d74f4",
      "metadata": {
        "id": "949132bc-d5b6-4611-8218-0b9a504d74f4"
      },
      "outputs": [],
      "source": [
        "# CH(9) для \\t табуляции\n",
        "\n",
        "query_6_5 = f'''\n",
        "SELECT\n",
        "    ROUND(AVG(length(key_skills) - length(replace(key_skills, CHR(9),'')) + 1), 2) AS avg_skills_cnt\n",
        "\n",
        "FROM vacancies AS v\n",
        "\n",
        "WHERE (\n",
        "    v.name ILIKE '%%data scientist%%' \n",
        "    OR v.name ILIKE '%%data science%%'\n",
        "    OR v.name ILIKE '%%исследователь данных%%'\n",
        "    OR v.name LIKE '%%ML%%' AND v.name NOT LIKE '%%HTML%%'\n",
        "    OR v.name ILIKE '%%machine learning%%'\n",
        "    OR v.name ILIKE '%%машинн%%обучен%%'\n",
        "    )\n",
        "AND v.key_skills IS NOT NULL\n",
        "\n",
        "'''"
      ]
    },
    {
      "cell_type": "code",
      "execution_count": 98,
      "id": "a3V24Tvmviqk",
      "metadata": {
        "id": "a3V24Tvmviqk"
      },
      "outputs": [
        {
          "name": "stdout",
          "output_type": "stream",
          "text": [
            "   avg_skills_cnt\n",
            "0            6.41\n"
          ]
        }
      ],
      "source": [
        "sql_df = pd.read_sql(query_6_5, engine)\n",
        "print(sql_df)"
      ]
    },
    {
      "cell_type": "markdown",
      "id": "1041c17a-ca8f-4543-a0ca-32778914fb00",
      "metadata": {
        "id": "1041c17a-ca8f-4543-a0ca-32778914fb00"
      },
      "source": [
        "**6. Напишите запрос, позволяющий вычислить, какую зарплату для DS в **среднем** указывают для каждого типа требуемого опыта (уникальное значение из поля *experience*).**\n",
        "\n",
        "При решении задачи примите во внимание следующее:\n",
        "1. Рассматриваем только вакансии, у которых заполнено хотя бы одно из двух полей с зарплатой.\n",
        "2. Если заполнены оба поля с зарплатой, то считаем зарплату по каждой вакансии как сумму двух полей, делённую на 2. Если заполнено только одно из полей, то его и считаем зарплатой по вакансии.\n",
        "3. Если в расчётах участвует null, в результате он тоже даст null (посмотрите, что возвращает запрос select 1 + null). Чтобы избежать этой ситуацию, мы воспользуемся функцией [coalesce](https://postgrespro.ru/docs/postgresql/9.5/functions-conditional#functions-coalesce-nvl-ifnull), которая заменит null на значение, которое мы передадим. Например, посмотрите, что возвращает запрос `select 1 + coalesce(null, 0)`\n",
        "\n",
        "Выясните, на какую зарплату в среднем может рассчитывать дата-сайентист с опытом работы от 3 до 6 лет. Результат округлите до целого числа. "
      ]
    },
    {
      "cell_type": "code",
      "execution_count": 99,
      "id": "6a743d39-5204-48d3-8271-b9f88e68d40e",
      "metadata": {
        "id": "6a743d39-5204-48d3-8271-b9f88e68d40e"
      },
      "outputs": [],
      "source": [
        "query_6_6 = f'''\n",
        "SELECT \n",
        "    DISTINCT experience, \n",
        "    ROUND(AVG(\n",
        "        CASE \n",
        "            WHEN salary_from IS NOT NULL AND salary_to IS NOT NULL \n",
        "            THEN (salary_from + salary_to) / 2 \n",
        "            ELSE COALESCE(salary_from, salary_to, 0) \n",
        "        END\n",
        "    )) AS avg_salary\n",
        "    \n",
        "FROM vacancies AS v\n",
        "\n",
        "WHERE (\n",
        "    v.name ILIKE '%%data scientist%%' \n",
        "    OR v.name ILIKE '%%data science%%'\n",
        "    OR v.name ILIKE '%%исследователь данных%%'\n",
        "    OR v.name LIKE '%%ML%%' AND v.name NOT LIKE '%%HTML%%'\n",
        "    OR v.name ILIKE '%%machine learning%%'\n",
        "    OR v.name ILIKE '%%машинн%%обучен%%'\n",
        "    )\n",
        "AND (salary_from IS NOT NULL OR salary_to IS NOT NULL)\n",
        "\n",
        "GROUP BY experience\n",
        "\n",
        "'''"
      ]
    },
    {
      "cell_type": "code",
      "execution_count": 100,
      "id": "aRIJ0mZEwU1_",
      "metadata": {
        "id": "aRIJ0mZEwU1_"
      },
      "outputs": [
        {
          "name": "stdout",
          "output_type": "stream",
          "text": [
            "           experience  avg_salary\n",
            "0           Нет опыта     74643.0\n",
            "1  От 1 года до 3 лет    139675.0\n",
            "2       От 3 до 6 лет    243115.0\n"
          ]
        }
      ],
      "source": [
        "sql_df = pd.read_sql(query_6_6, engine)\n",
        "print(sql_df)"
      ]
    },
    {
      "cell_type": "markdown",
      "id": "79bde202",
      "metadata": {},
      "source": [
        "**Вывод:** *В шестом юните мы провели предметный анализ, который позволил нам узнать сколько вакансий имеет отношения к данным. С помощью фильтрации мы нашли количество вакансий, которые относятся к DS и вакансии для DS в которых ключевыми навыками указаны SQL или postgres. Далее, с помощью ключевых навыков мы узнали, что ЯП Python является довольно популярным языком в вакансиях (где 536 вакансий DS и 357 вакансий, где учитывается ЯП Python).*\n",
        "\n",
        "*Далее, мы определили среднее количество ключевых навыков для DS предварительно ознакомившись со способом разделения в таблицах. Среднее количество ключевых навыков составило 6,41.*\n",
        "\n",
        "*Чтобы вычислить какую среднюю зарплату указывают для каждого типа опыта в DS мы рассматривали вакансии, где указаны хотя бы одно поле с зарплатой. С помощью функции CASE, которая сделала код гораздо компактнее и \"читабельнее\", мы поместили все три требующиеся от нас задачи в неё по порядку. Выяснили, что дата-сайентист с опытом работы от трёх до шести лет может рассчитывать на среднюю зарплату в районе 243115 д.ед.*"
      ]
    },
    {
      "cell_type": "markdown",
      "id": "6a7892b4-4113-4746-adce-18aa2844f18e",
      "metadata": {
        "id": "6a7892b4-4113-4746-adce-18aa2844f18e"
      },
      "source": [
        "***"
      ]
    },
    {
      "cell_type": "markdown",
      "id": "c0ED6fh7wiBT",
      "metadata": {
        "id": "c0ED6fh7wiBT"
      },
      "source": [
        "# Общий вывод по проекту"
      ]
    },
    {
      "cell_type": "markdown",
      "id": "2187fa61",
      "metadata": {},
      "source": [
        "Подводя итоги проекта можно сделать вывод, что с помощью предварительного анализа мы можем найти информацию, которая нужна: посчитать количество вакансий или регионов, где определённая вакансия популярна, а также много других поверхностных деталей для ознакомления. \n",
        "\n",
        "Детально анализируя таблицы мы находим значения на уровне строк. Например количество вакансий, где заполнены хотя бы одно поле с зарплатой или найти средние значения для нижней/верхней границ зарплатной вилки. Также, мы провели детальный анализ работодателей. Узнали какие работодатели наиболее популярны, а также в каких регионах они публикуют свои вакансии. Если у работодателей не указана сфера их деятельности – здесь мы также прибегли к запросу о количестве таких работодателей. Также, полезно узнать какие именно работодатели не имеют сферы деятельности и посмотреть на их названия (*query_0_1*)\n",
        "\n",
        "Также, с помощью парсинга, мы вытащили первую таблицу с сайта свободной энциклопедии *cities_df = tables[0]* и превратили её в список нужных нам городов. Узнали, что вакансии компании \"Яндекс\" представлены во всех городах-миллионниках, но больше всех их, конечно, в главных городах России - это Москва и Санкт-Петербург.\n",
        "\n",
        "Предметный анализ показал нам как можно качественно и легко отфильтровать нужные критерии и находить нужные нам запросы.\n",
        "\n"
      ]
    },
    {
      "cell_type": "code",
      "execution_count": 101,
      "id": "02ce7d1f",
      "metadata": {},
      "outputs": [
        {
          "name": "stdout",
          "output_type": "stream",
          "text": [
            "                                          employer_name\n",
            "0     1000 мелочей (ИП Гафиатуллина Гульшат Митарисо...\n",
            "1                                             1001 Soft\n",
            "2                                             100 печей\n",
            "3                                              101 Плюс\n",
            "4                                           1221Системс\n",
            "...                                                 ...\n",
            "8414           Ярославский завод упаковочных материалов\n",
            "8415                           Ярославский филиал ПГУПС\n",
            "8416    Ярославский ЦГМС - филиал ФГБУ Центральное УГМС\n",
            "8417                                       Ярпож Казань\n",
            "8418                            Яшнова Алена Викторовна\n",
            "\n",
            "[8419 rows x 1 columns]\n"
          ]
        }
      ],
      "source": [
        "query_0_1 = f'''SELECT\n",
        "e.name AS employer_name\n",
        "    \n",
        "FROM employers AS e\n",
        "    LEFT JOIN employers_industries AS ei ON e.id = ei.employer_id\n",
        "\n",
        "WHERE ei.industry_id IS NULL\n",
        "\n",
        "ORDER BY e.name ASC\n",
        "\n",
        "'''\n",
        "\n",
        "sql_df = pd.read_sql(query_0_1, engine)\n",
        "print(sql_df)"
      ]
    }
  ],
  "metadata": {
    "colab": {
      "collapsed_sections": [
        "8d62a9f3-f64e-4fe7-bdac-c4dffa16155e"
      ],
      "provenance": []
    },
    "kernelspec": {
      "display_name": "Python 3",
      "language": "python",
      "name": "python3"
    },
    "language_info": {
      "codemirror_mode": {
        "name": "ipython",
        "version": 3
      },
      "file_extension": ".py",
      "mimetype": "text/x-python",
      "name": "python",
      "nbconvert_exporter": "python",
      "pygments_lexer": "ipython3",
      "version": "3.13.1"
    }
  },
  "nbformat": 4,
  "nbformat_minor": 5
}
